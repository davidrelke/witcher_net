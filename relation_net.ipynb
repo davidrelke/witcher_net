{
 "cells": [
  {
   "cell_type": "code",
   "execution_count": 25,
   "outputs": [],
   "source": [
    "import os\n",
    "import re\n",
    "import pandas as pd\n",
    "import numpy as np\n",
    "import spacy\n",
    "from spacy import displacy\n",
    "import networkx as nx\n",
    "import matplotlib.pyplot as plt\n",
    "pd.set_option('display.max_rows', 50)"
   ],
   "metadata": {
    "collapsed": false,
    "pycharm": {
     "name": "#%%\n"
    }
   }
  },
  {
   "cell_type": "code",
   "execution_count": 2,
   "outputs": [
    {
     "name": "stdout",
     "output_type": "stream",
     "text": [
      "Collecting en-core-web-md==3.3.0\r\n",
      "  Downloading https://github.com/explosion/spacy-models/releases/download/en_core_web_md-3.3.0/en_core_web_md-3.3.0-py3-none-any.whl (33.5 MB)\r\n",
      "\u001B[2K     \u001B[90m━━━━━━━━━━━━━━━━━━━━━━━━━━━━━━━━━━━━━━━━\u001B[0m \u001B[32m33.5/33.5 MB\u001B[0m \u001B[31m5.6 MB/s\u001B[0m eta \u001B[36m0:00:00\u001B[0m00:01\u001B[0m00:01\u001B[0m\r\n",
      "\u001B[?25hRequirement already satisfied: spacy<3.4.0,>=3.3.0.dev0 in /Users/david/.local/share/virtualenvs/witcher_net-fNy0EKNS/lib/python3.8/site-packages (from en-core-web-md==3.3.0) (3.3.1)\r\n",
      "Requirement already satisfied: packaging>=20.0 in /Users/david/.local/share/virtualenvs/witcher_net-fNy0EKNS/lib/python3.8/site-packages (from spacy<3.4.0,>=3.3.0.dev0->en-core-web-md==3.3.0) (21.3)\r\n",
      "Requirement already satisfied: numpy>=1.15.0 in /Users/david/.local/share/virtualenvs/witcher_net-fNy0EKNS/lib/python3.8/site-packages (from spacy<3.4.0,>=3.3.0.dev0->en-core-web-md==3.3.0) (1.23.0)\r\n",
      "Requirement already satisfied: catalogue<2.1.0,>=2.0.6 in /Users/david/.local/share/virtualenvs/witcher_net-fNy0EKNS/lib/python3.8/site-packages (from spacy<3.4.0,>=3.3.0.dev0->en-core-web-md==3.3.0) (2.0.7)\r\n",
      "Requirement already satisfied: tqdm<5.0.0,>=4.38.0 in /Users/david/.local/share/virtualenvs/witcher_net-fNy0EKNS/lib/python3.8/site-packages (from spacy<3.4.0,>=3.3.0.dev0->en-core-web-md==3.3.0) (4.64.0)\r\n",
      "Requirement already satisfied: spacy-legacy<3.1.0,>=3.0.9 in /Users/david/.local/share/virtualenvs/witcher_net-fNy0EKNS/lib/python3.8/site-packages (from spacy<3.4.0,>=3.3.0.dev0->en-core-web-md==3.3.0) (3.0.9)\r\n",
      "Requirement already satisfied: typer<0.5.0,>=0.3.0 in /Users/david/.local/share/virtualenvs/witcher_net-fNy0EKNS/lib/python3.8/site-packages (from spacy<3.4.0,>=3.3.0.dev0->en-core-web-md==3.3.0) (0.4.1)\r\n",
      "Requirement already satisfied: pydantic!=1.8,!=1.8.1,<1.9.0,>=1.7.4 in /Users/david/.local/share/virtualenvs/witcher_net-fNy0EKNS/lib/python3.8/site-packages (from spacy<3.4.0,>=3.3.0.dev0->en-core-web-md==3.3.0) (1.8.2)\r\n",
      "Requirement already satisfied: langcodes<4.0.0,>=3.2.0 in /Users/david/.local/share/virtualenvs/witcher_net-fNy0EKNS/lib/python3.8/site-packages (from spacy<3.4.0,>=3.3.0.dev0->en-core-web-md==3.3.0) (3.3.0)\r\n",
      "Requirement already satisfied: murmurhash<1.1.0,>=0.28.0 in /Users/david/.local/share/virtualenvs/witcher_net-fNy0EKNS/lib/python3.8/site-packages (from spacy<3.4.0,>=3.3.0.dev0->en-core-web-md==3.3.0) (1.0.7)\r\n",
      "Requirement already satisfied: thinc<8.1.0,>=8.0.14 in /Users/david/.local/share/virtualenvs/witcher_net-fNy0EKNS/lib/python3.8/site-packages (from spacy<3.4.0,>=3.3.0.dev0->en-core-web-md==3.3.0) (8.0.17)\r\n",
      "Requirement already satisfied: requests<3.0.0,>=2.13.0 in /Users/david/.local/share/virtualenvs/witcher_net-fNy0EKNS/lib/python3.8/site-packages (from spacy<3.4.0,>=3.3.0.dev0->en-core-web-md==3.3.0) (2.28.0)\r\n",
      "Requirement already satisfied: preshed<3.1.0,>=3.0.2 in /Users/david/.local/share/virtualenvs/witcher_net-fNy0EKNS/lib/python3.8/site-packages (from spacy<3.4.0,>=3.3.0.dev0->en-core-web-md==3.3.0) (3.0.6)\r\n",
      "Requirement already satisfied: wasabi<1.1.0,>=0.9.1 in /Users/david/.local/share/virtualenvs/witcher_net-fNy0EKNS/lib/python3.8/site-packages (from spacy<3.4.0,>=3.3.0.dev0->en-core-web-md==3.3.0) (0.9.1)\r\n",
      "Requirement already satisfied: srsly<3.0.0,>=2.4.3 in /Users/david/.local/share/virtualenvs/witcher_net-fNy0EKNS/lib/python3.8/site-packages (from spacy<3.4.0,>=3.3.0.dev0->en-core-web-md==3.3.0) (2.4.3)\r\n",
      "Requirement already satisfied: blis<0.8.0,>=0.4.0 in /Users/david/.local/share/virtualenvs/witcher_net-fNy0EKNS/lib/python3.8/site-packages (from spacy<3.4.0,>=3.3.0.dev0->en-core-web-md==3.3.0) (0.7.8)\r\n",
      "Requirement already satisfied: spacy-loggers<2.0.0,>=1.0.0 in /Users/david/.local/share/virtualenvs/witcher_net-fNy0EKNS/lib/python3.8/site-packages (from spacy<3.4.0,>=3.3.0.dev0->en-core-web-md==3.3.0) (1.0.2)\r\n",
      "Requirement already satisfied: cymem<2.1.0,>=2.0.2 in /Users/david/.local/share/virtualenvs/witcher_net-fNy0EKNS/lib/python3.8/site-packages (from spacy<3.4.0,>=3.3.0.dev0->en-core-web-md==3.3.0) (2.0.6)\r\n",
      "Requirement already satisfied: pathy>=0.3.5 in /Users/david/.local/share/virtualenvs/witcher_net-fNy0EKNS/lib/python3.8/site-packages (from spacy<3.4.0,>=3.3.0.dev0->en-core-web-md==3.3.0) (0.6.1)\r\n",
      "Requirement already satisfied: setuptools in /Users/david/.local/share/virtualenvs/witcher_net-fNy0EKNS/lib/python3.8/site-packages (from spacy<3.4.0,>=3.3.0.dev0->en-core-web-md==3.3.0) (62.6.0)\r\n",
      "Requirement already satisfied: jinja2 in /Users/david/.local/share/virtualenvs/witcher_net-fNy0EKNS/lib/python3.8/site-packages (from spacy<3.4.0,>=3.3.0.dev0->en-core-web-md==3.3.0) (3.1.2)\r\n",
      "Requirement already satisfied: pyparsing!=3.0.5,>=2.0.2 in /Users/david/.local/share/virtualenvs/witcher_net-fNy0EKNS/lib/python3.8/site-packages (from packaging>=20.0->spacy<3.4.0,>=3.3.0.dev0->en-core-web-md==3.3.0) (3.0.9)\r\n",
      "Requirement already satisfied: smart-open<6.0.0,>=5.0.0 in /Users/david/.local/share/virtualenvs/witcher_net-fNy0EKNS/lib/python3.8/site-packages (from pathy>=0.3.5->spacy<3.4.0,>=3.3.0.dev0->en-core-web-md==3.3.0) (5.2.1)\r\n",
      "Requirement already satisfied: typing-extensions>=3.7.4.3 in /Users/david/.local/share/virtualenvs/witcher_net-fNy0EKNS/lib/python3.8/site-packages (from pydantic!=1.8,!=1.8.1,<1.9.0,>=1.7.4->spacy<3.4.0,>=3.3.0.dev0->en-core-web-md==3.3.0) (4.2.0)\r\n",
      "Requirement already satisfied: certifi>=2017.4.17 in /Users/david/.local/share/virtualenvs/witcher_net-fNy0EKNS/lib/python3.8/site-packages (from requests<3.0.0,>=2.13.0->spacy<3.4.0,>=3.3.0.dev0->en-core-web-md==3.3.0) (2022.6.15)\r\n",
      "Requirement already satisfied: charset-normalizer~=2.0.0 in /Users/david/.local/share/virtualenvs/witcher_net-fNy0EKNS/lib/python3.8/site-packages (from requests<3.0.0,>=2.13.0->spacy<3.4.0,>=3.3.0.dev0->en-core-web-md==3.3.0) (2.0.12)\r\n",
      "Requirement already satisfied: idna<4,>=2.5 in /Users/david/.local/share/virtualenvs/witcher_net-fNy0EKNS/lib/python3.8/site-packages (from requests<3.0.0,>=2.13.0->spacy<3.4.0,>=3.3.0.dev0->en-core-web-md==3.3.0) (3.3)\r\n",
      "Requirement already satisfied: urllib3<1.27,>=1.21.1 in /Users/david/.local/share/virtualenvs/witcher_net-fNy0EKNS/lib/python3.8/site-packages (from requests<3.0.0,>=2.13.0->spacy<3.4.0,>=3.3.0.dev0->en-core-web-md==3.3.0) (1.26.9)\r\n",
      "Requirement already satisfied: click<9.0.0,>=7.1.1 in /Users/david/.local/share/virtualenvs/witcher_net-fNy0EKNS/lib/python3.8/site-packages (from typer<0.5.0,>=0.3.0->spacy<3.4.0,>=3.3.0.dev0->en-core-web-md==3.3.0) (8.1.3)\r\n",
      "Requirement already satisfied: MarkupSafe>=2.0 in /Users/david/.local/share/virtualenvs/witcher_net-fNy0EKNS/lib/python3.8/site-packages (from jinja2->spacy<3.4.0,>=3.3.0.dev0->en-core-web-md==3.3.0) (2.1.1)\r\n",
      "Installing collected packages: en-core-web-md\r\n",
      "Successfully installed en-core-web-md-3.3.0\r\n",
      "\u001B[38;5;2m✔ Download and installation successful\u001B[0m\r\n",
      "You can now load the package via spacy.load('en_core_web_md')\r\n"
     ]
    }
   ],
   "source": [
    "!python -m spacy download en_core_web_md"
   ],
   "metadata": {
    "collapsed": false,
    "pycharm": {
     "name": "#%%\n"
    }
   }
  },
  {
   "cell_type": "code",
   "execution_count": 3,
   "outputs": [],
   "source": [
    "nlp = spacy.load('en_core_web_md')"
   ],
   "metadata": {
    "collapsed": false,
    "pycharm": {
     "name": "#%%\n"
    }
   }
  },
  {
   "cell_type": "markdown",
   "source": [
    "# Approach\n",
    "\n",
    "* Read source\n",
    "* Split into sentences\n",
    "* Extract names of characters\n",
    "* Go through sentences and sum up how often two characters are referenced within x (window size) sentences"
   ],
   "metadata": {
    "collapsed": false,
    "pycharm": {
     "name": "#%% md\n"
    }
   }
  },
  {
   "cell_type": "markdown",
   "source": [],
   "metadata": {
    "collapsed": false,
    "pycharm": {
     "name": "#%% md\n"
    }
   }
  },
  {
   "cell_type": "code",
   "execution_count": 7,
   "outputs": [
    {
     "data": {
      "text/plain": "[<DirEntry 'I - Blood of Elves.txt'>,\n <DirEntry 'B - The Sword of Destiny.txt'>,\n <DirEntry 'II - Times of Contempt.txt'>,\n <DirEntry 'E - something ends something begins.txt'>,\n <DirEntry 'IV - The Tower of the Swallow.txt'>,\n <DirEntry 'C - The Last Wish.txt'>,\n <DirEntry 'V - The Lady of the Lake.txt'>,\n <DirEntry 'III - Baptism of Fire.txt'>]"
     },
     "execution_count": 7,
     "metadata": {},
     "output_type": "execute_result"
    }
   ],
   "source": [
    "# Read the book txt files that are in the data directory\n",
    "book_files = [b for b in os.scandir('data')]\n",
    "book_files"
   ],
   "metadata": {
    "collapsed": false,
    "pycharm": {
     "name": "#%%\n"
    }
   }
  },
  {
   "cell_type": "code",
   "execution_count": 19,
   "outputs": [],
   "source": [
    "first_book = book_files[0]\n",
    "first_book_text = open(first_book).read()\n",
    "first_book_doc = nlp(first_book_text)"
   ],
   "metadata": {
    "collapsed": false,
    "pycharm": {
     "name": "#%%\n"
    }
   }
  },
  {
   "cell_type": "code",
   "execution_count": null,
   "outputs": [],
   "source": [
    "displacy.render(first_book_doc[2000:4000], style='ent', jupyter=True)"
   ],
   "metadata": {
    "collapsed": false,
    "pycharm": {
     "name": "#%%\n",
     "is_executing": true
    }
   }
  },
  {
   "cell_type": "markdown",
   "source": [
    "### Read character list"
   ],
   "metadata": {
    "collapsed": false,
    "pycharm": {
     "name": "#%% md\n"
    }
   }
  },
  {
   "cell_type": "code",
   "execution_count": 22,
   "outputs": [
    {
     "data": {
      "text/plain": "                                      book               character\n0      Category:Baptism of Fire characters                  Adalia\n1      Category:Baptism of Fire characters                   Adela\n2      Category:Baptism of Fire characters           Aen Saevherne\n3      Category:Baptism of Fire characters                Aevenien\n4      Category:Baptism of Fire characters                  Aglaïs\n...                                    ...                     ...\n1269  Category:Time of Contempt characters        Yanna of Murivel\n1270  Category:Time of Contempt characters           Yarpen Zigrin\n1271  Category:Time of Contempt characters  Yennefer of Vengerberg\n1272  Category:Time of Contempt characters         Yiolenta Suarez\n1273  Category:Time of Contempt characters                   Zyvik\n\n[1274 rows x 2 columns]",
      "text/html": "<div>\n<style scoped>\n    .dataframe tbody tr th:only-of-type {\n        vertical-align: middle;\n    }\n\n    .dataframe tbody tr th {\n        vertical-align: top;\n    }\n\n    .dataframe thead th {\n        text-align: right;\n    }\n</style>\n<table border=\"1\" class=\"dataframe\">\n  <thead>\n    <tr style=\"text-align: right;\">\n      <th></th>\n      <th>book</th>\n      <th>character</th>\n    </tr>\n  </thead>\n  <tbody>\n    <tr>\n      <th>0</th>\n      <td>Category:Baptism of Fire characters</td>\n      <td>Adalia</td>\n    </tr>\n    <tr>\n      <th>1</th>\n      <td>Category:Baptism of Fire characters</td>\n      <td>Adela</td>\n    </tr>\n    <tr>\n      <th>2</th>\n      <td>Category:Baptism of Fire characters</td>\n      <td>Aen Saevherne</td>\n    </tr>\n    <tr>\n      <th>3</th>\n      <td>Category:Baptism of Fire characters</td>\n      <td>Aevenien</td>\n    </tr>\n    <tr>\n      <th>4</th>\n      <td>Category:Baptism of Fire characters</td>\n      <td>Aglaïs</td>\n    </tr>\n    <tr>\n      <th>...</th>\n      <td>...</td>\n      <td>...</td>\n    </tr>\n    <tr>\n      <th>1269</th>\n      <td>Category:Time of Contempt characters</td>\n      <td>Yanna of Murivel</td>\n    </tr>\n    <tr>\n      <th>1270</th>\n      <td>Category:Time of Contempt characters</td>\n      <td>Yarpen Zigrin</td>\n    </tr>\n    <tr>\n      <th>1271</th>\n      <td>Category:Time of Contempt characters</td>\n      <td>Yennefer of Vengerberg</td>\n    </tr>\n    <tr>\n      <th>1272</th>\n      <td>Category:Time of Contempt characters</td>\n      <td>Yiolenta Suarez</td>\n    </tr>\n    <tr>\n      <th>1273</th>\n      <td>Category:Time of Contempt characters</td>\n      <td>Zyvik</td>\n    </tr>\n  </tbody>\n</table>\n<p>1274 rows × 2 columns</p>\n</div>"
     },
     "execution_count": 22,
     "metadata": {},
     "output_type": "execute_result"
    }
   ],
   "source": [
    "df_characters = pd.read_csv('characters.csv')\n",
    "df_characters"
   ],
   "metadata": {
    "collapsed": false,
    "pycharm": {
     "name": "#%%\n"
    }
   }
  },
  {
   "cell_type": "code",
   "execution_count": 26,
   "outputs": [
    {
     "data": {
      "text/plain": "                                      book               character  \\\n0      Category:Baptism of Fire characters                  Adalia   \n1      Category:Baptism of Fire characters                   Adela   \n2      Category:Baptism of Fire characters           Aen Saevherne   \n3      Category:Baptism of Fire characters                Aevenien   \n4      Category:Baptism of Fire characters                  Aglaïs   \n...                                    ...                     ...   \n1269  Category:Time of Contempt characters        Yanna of Murivel   \n1270  Category:Time of Contempt characters           Yarpen Zigrin   \n1271  Category:Time of Contempt characters  Yennefer of Vengerberg   \n1272  Category:Time of Contempt characters         Yiolenta Suarez   \n1273  Category:Time of Contempt characters                   Zyvik   \n\n     character_first_name  \n0                  Adalia  \n1                   Adela  \n2                     Aen  \n3                Aevenien  \n4                  Aglaïs  \n...                   ...  \n1269                Yanna  \n1270               Yarpen  \n1271             Yennefer  \n1272             Yiolenta  \n1273                Zyvik  \n\n[1274 rows x 3 columns]",
      "text/html": "<div>\n<style scoped>\n    .dataframe tbody tr th:only-of-type {\n        vertical-align: middle;\n    }\n\n    .dataframe tbody tr th {\n        vertical-align: top;\n    }\n\n    .dataframe thead th {\n        text-align: right;\n    }\n</style>\n<table border=\"1\" class=\"dataframe\">\n  <thead>\n    <tr style=\"text-align: right;\">\n      <th></th>\n      <th>book</th>\n      <th>character</th>\n      <th>character_first_name</th>\n    </tr>\n  </thead>\n  <tbody>\n    <tr>\n      <th>0</th>\n      <td>Category:Baptism of Fire characters</td>\n      <td>Adalia</td>\n      <td>Adalia</td>\n    </tr>\n    <tr>\n      <th>1</th>\n      <td>Category:Baptism of Fire characters</td>\n      <td>Adela</td>\n      <td>Adela</td>\n    </tr>\n    <tr>\n      <th>2</th>\n      <td>Category:Baptism of Fire characters</td>\n      <td>Aen Saevherne</td>\n      <td>Aen</td>\n    </tr>\n    <tr>\n      <th>3</th>\n      <td>Category:Baptism of Fire characters</td>\n      <td>Aevenien</td>\n      <td>Aevenien</td>\n    </tr>\n    <tr>\n      <th>4</th>\n      <td>Category:Baptism of Fire characters</td>\n      <td>Aglaïs</td>\n      <td>Aglaïs</td>\n    </tr>\n    <tr>\n      <th>...</th>\n      <td>...</td>\n      <td>...</td>\n      <td>...</td>\n    </tr>\n    <tr>\n      <th>1269</th>\n      <td>Category:Time of Contempt characters</td>\n      <td>Yanna of Murivel</td>\n      <td>Yanna</td>\n    </tr>\n    <tr>\n      <th>1270</th>\n      <td>Category:Time of Contempt characters</td>\n      <td>Yarpen Zigrin</td>\n      <td>Yarpen</td>\n    </tr>\n    <tr>\n      <th>1271</th>\n      <td>Category:Time of Contempt characters</td>\n      <td>Yennefer of Vengerberg</td>\n      <td>Yennefer</td>\n    </tr>\n    <tr>\n      <th>1272</th>\n      <td>Category:Time of Contempt characters</td>\n      <td>Yiolenta Suarez</td>\n      <td>Yiolenta</td>\n    </tr>\n    <tr>\n      <th>1273</th>\n      <td>Category:Time of Contempt characters</td>\n      <td>Zyvik</td>\n      <td>Zyvik</td>\n    </tr>\n  </tbody>\n</table>\n<p>1274 rows × 3 columns</p>\n</div>"
     },
     "execution_count": 26,
     "metadata": {},
     "output_type": "execute_result"
    }
   ],
   "source": [
    "# remove annotations like \"Aubry ->(first born)<-\"\n",
    "df_characters['character'] = df_characters['character'].apply(lambda name: name.split('(', 1)[0].strip())\n",
    "# save first names because characters are often referred to by first name only\n",
    "df_characters['character_first_name'] = df_characters['character'].apply(lambda name: name.split(' ', 1)[0])\n",
    "df_characters"
   ],
   "metadata": {
    "collapsed": false,
    "pycharm": {
     "name": "#%%\n"
    }
   }
  }
 ],
 "metadata": {
  "kernelspec": {
   "display_name": "Python 3",
   "language": "python",
   "name": "python3"
  },
  "language_info": {
   "codemirror_mode": {
    "name": "ipython",
    "version": 2
   },
   "file_extension": ".py",
   "mimetype": "text/x-python",
   "name": "python",
   "nbconvert_exporter": "python",
   "pygments_lexer": "ipython2",
   "version": "2.7.6"
  }
 },
 "nbformat": 4,
 "nbformat_minor": 0
}